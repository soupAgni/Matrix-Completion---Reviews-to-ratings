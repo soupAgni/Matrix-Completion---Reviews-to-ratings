{
 "cells": [
  {
   "cell_type": "code",
   "execution_count": 66,
   "metadata": {
    "collapsed": true
   },
   "outputs": [],
   "source": [
    "#generate a rope of length N \n",
    "import random\n"
   ]
  },
  {
   "cell_type": "code",
   "execution_count": 67,
   "metadata": {
    "collapsed": true
   },
   "outputs": [],
   "source": [
    "randomarr = random.sample(range(1,len(rope)),2)"
   ]
  },
  {
   "cell_type": "code",
   "execution_count": 68,
   "metadata": {},
   "outputs": [
    {
     "data": {
      "text/plain": [
       "8"
      ]
     },
     "execution_count": 68,
     "metadata": {},
     "output_type": "execute_result"
    }
   ],
   "source": [
    "import numpy as np\n",
    "len(max(np.split(rope, randomarr), key=tuple))"
   ]
  },
  {
   "cell_type": "code",
   "execution_count": 69,
   "metadata": {
    "collapsed": true
   },
   "outputs": [],
   "source": [
    "def generateRope(N):\n",
    "    rope = []\n",
    "    for i in range(0,N):\n",
    "        rope.append(i)\n",
    "    return rope"
   ]
  },
  {
   "cell_type": "code",
   "execution_count": 70,
   "metadata": {
    "collapsed": true
   },
   "outputs": [],
   "source": [
    "def findMaxArr(arrs):\n",
    "    rope1 = arrs[0]\n",
    "    rope2 = arrs[1]\n",
    "    rope3 = arrs[2]\n",
    "    if (len(rope1) >= len(rope2)):\n",
    "        if(len(rope1) >= len(rope3)):\n",
    "            return rope1\n",
    "        else:\n",
    "            return rope3\n",
    "        \n",
    "    elif(len(rope2) >= len(rope3)):\n",
    "        return rope2\n",
    "    \n",
    "    else:\n",
    "        return rope3"
   ]
  },
  {
   "cell_type": "code",
   "execution_count": 71,
   "metadata": {},
   "outputs": [],
   "source": [
    "def cutRope(N, T):\n",
    "    #generate rope\n",
    "    rope = generateRope(N)\n",
    "    t = 1\n",
    "    longestArrLen = []\n",
    "    while (t <= T):\n",
    "        try:\n",
    "            \n",
    "            #generate 2 random numbers\n",
    "            randomarr = random.sample(range(1,len(rope)),2)\n",
    "            randomarr = np.sort(randomarr)\n",
    "            #print randomarr\n",
    "            #cut rope at the two coordinates\n",
    "            rope = findMaxArr(np.split(rope, randomarr))\n",
    "            #append the length of longest rope to the array\n",
    "            longestArrLen.append(len(rope))\n",
    "            #increment t\n",
    "            t += 1\n",
    "        except ValueError:\n",
    "            print \"reached max limit at t = \", t\n",
    "            break\n",
    "    print longestArrLen\n",
    "    return longestArrLen"
   ]
  },
  {
   "cell_type": "code",
   "execution_count": 72,
   "metadata": {},
   "outputs": [
    {
     "name": "stdout",
     "output_type": "stream",
     "text": [
      "[34, 27, 16, 9, 5]\n"
     ]
    }
   ],
   "source": [
    "ropelengths = cutRope(64,5)"
   ]
  },
  {
   "cell_type": "code",
   "execution_count": 73,
   "metadata": {},
   "outputs": [],
   "source": [
    "mean = np.mean(ropelengths)\n",
    "std = np.std(ropelengths)"
   ]
  },
  {
   "cell_type": "code",
   "execution_count": 74,
   "metadata": {},
   "outputs": [
    {
     "name": "stdout",
     "output_type": "stream",
     "text": [
      "18.2 10.8701425934\n"
     ]
    }
   ],
   "source": [
    "print mean, std"
   ]
  },
  {
   "cell_type": "code",
   "execution_count": 77,
   "metadata": {},
   "outputs": [],
   "source": [
    "#let A be the event that the value is greater than 4\n",
    "#let B be the evebt that the value is greater than 8\n",
    "#we have to find P(B|A)= P(A|B)*P(B)/(P(A|B)*P(B) + P(A|~B)*P(~B))"
   ]
  },
  {
   "cell_type": "code",
   "execution_count": 78,
   "metadata": {},
   "outputs": [
    {
     "name": "stdout",
     "output_type": "stream",
     "text": [
      "[575, 243, 141, 64, 45, 27, 17, 12, 7, 4]\n",
      "113.5 169.729343368\n"
     ]
    }
   ],
   "source": [
    "ropelengths = cutRope(1024,10)\n",
    "mean = np.mean(ropelengths)\n",
    "std = np.std(ropelengths)\n",
    "print mean, std"
   ]
  },
  {
   "cell_type": "code",
   "execution_count": null,
   "metadata": {
    "collapsed": true
   },
   "outputs": [],
   "source": []
  },
  {
   "cell_type": "code",
   "execution_count": null,
   "metadata": {
    "collapsed": true
   },
   "outputs": [],
   "source": []
  }
 ],
 "metadata": {
  "kernelspec": {
   "display_name": "Python 2",
   "language": "python",
   "name": "python2"
  },
  "language_info": {
   "codemirror_mode": {
    "name": "ipython",
    "version": 2
   },
   "file_extension": ".py",
   "mimetype": "text/x-python",
   "name": "python",
   "nbconvert_exporter": "python",
   "pygments_lexer": "ipython2",
   "version": "2.7.13"
  }
 },
 "nbformat": 4,
 "nbformat_minor": 2
}
